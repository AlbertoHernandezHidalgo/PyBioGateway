{
 "cells": [
  {
   "cell_type": "markdown",
   "id": "c53c547f-7dde-48af-8a17-057567a999c4",
   "metadata": {},
   "source": [
    "First example of usage:"
   ]
  },
  {
   "cell_type": "markdown",
   "id": "35df57ee-b824-45b4-a4f8-3449f12c6b5c",
   "metadata": {},
   "source": [
    "We have one mutation of interest (rs4784227-> chr16:52565276) and we want to study its possible implications in the regulation of gene expression. First we will find the enhancers that are located on these coords with the function getCRMs_by_coord."
   ]
  },
  {
   "cell_type": "code",
   "execution_count": 1,
   "id": "4b117bb3-a18c-429d-9bd3-9191080c314a",
   "metadata": {},
   "outputs": [],
   "source": [
    "from PyBioGateway import getCRMs_by_coord, getCRM_info, getCRM_add_info,crm2phen, getPhenotype, crm2gene, gene2protein, prot2bp, gene2crm, gene2tfac"
   ]
  },
  {
   "cell_type": "code",
   "execution_count": 2,
   "id": "4443a9f7-ce99-49af-bed9-0a024a8f90d3",
   "metadata": {},
   "outputs": [
    {
     "name": "stdout",
     "output_type": "stream",
     "text": [
      "Number of CRMs in the specified range: 485\n"
     ]
    }
   ],
   "source": [
    "import time\n",
    "\n",
    "start_time = time.time()\n",
    "\n",
    "mutation_position = 52565276\n",
    "\n",
    "# We define a range around the mutation position (e.g., +/- 12500 bases)\n",
    "range_start = mutation_position - 12500\n",
    "range_end = mutation_position + 12500\n",
    "\n",
    "#Now we use the function to get CRMs in the defined range\n",
    "crms = getCRMs_by_coord(\"chr-16\", range_start, range_end)\n",
    "\n",
    "# We will count the number of entries in the list\n",
    "num_entries = len(crms) if isinstance(crms, list) else 0\n",
    "\n",
    "print(f\"Number of CRMs in the specified range: {num_entries}\")\n"
   ]
  },
  {
   "cell_type": "markdown",
   "id": "f4a1b42c-6392-4a1f-8a79-fe00c792c94e",
   "metadata": {},
   "source": [
    "We will select some crm for continue the study, and we will see if the crm is related with any disease using crm2phen function."
   ]
  },
  {
   "cell_type": "code",
   "execution_count": 3,
   "id": "01405327-2d31-46fb-9c78-236efd9ebd45",
   "metadata": {},
   "outputs": [
    {
     "name": "stdout",
     "output_type": "stream",
     "text": [
      "CRM: crm/CRMHS00000005858\n",
      "Phenotypes: [{'phen_id': 'OMIM/114480', 'database': 'http://biocc.hrbmu.edu.cn/DiseaseEnhancer/; http://health.tsinghua.edu.cn/jianglab/endisease/', 'articles': 'pubmed/23001124'}, {'phen_id': 'MESH/D001943', 'database': 'http://biocc.hrbmu.edu.cn/DiseaseEnhancer/; http://health.tsinghua.edu.cn/jianglab/endisease/', 'articles': 'pubmed/23001124'}, {'phen_id': 'DOID/DOID_1612', 'database': 'http://biocc.hrbmu.edu.cn/DiseaseEnhancer/; http://health.tsinghua.edu.cn/jianglab/endisease/', 'articles': 'pubmed/23001124'}]\n",
      "\n"
     ]
    }
   ],
   "source": [
    "for crm in crms:\n",
    "    crm_name = crm['crm_name']\n",
    "    phen_results = crm2phen(crm_name)\n",
    "    if phen_results != (\"No data available for the introduced crm or you may have introduced an instance that is not a crm. Check your data type with type_data function.\"):    \n",
    "        print(f\"CRM: {crm_name}\")\n",
    "        print(f\"Phenotypes: {phen_results}\\n\")\n"
   ]
  },
  {
   "cell_type": "markdown",
   "id": "a79acbd3-8625-4f36-b388-2fc38cd59b26",
   "metadata": {},
   "source": [
    "We get the crm that are related to a phenotype, in this case only crm/CRMHS00000005858 is related to a disease, which is Breast cancer."
   ]
  },
  {
   "cell_type": "code",
   "execution_count": 4,
   "id": "094d1bbc-5bc9-4a64-8b19-623e98fc1bdc",
   "metadata": {},
   "outputs": [
    {
     "name": "stdout",
     "output_type": "stream",
     "text": [
      "[{'phen_label': 'BREAST CANCER'}]\n"
     ]
    }
   ],
   "source": [
    "print(getPhenotype(\"114480\"))"
   ]
  },
  {
   "cell_type": "markdown",
   "id": "ae2a5050-c534-4c54-8ded-12947e29b36e",
   "metadata": {},
   "source": [
    "We will now find the information available for our crm with these two functions: getCRM_info and getCRM_add_info:"
   ]
  },
  {
   "cell_type": "code",
   "execution_count": 5,
   "id": "2e157640-4b0d-4da9-a305-8b8b6c8aa168",
   "metadata": {},
   "outputs": [
    {
     "data": {
      "text/plain": [
       "[{'start': '52556490',\n",
       "  'end': '52566288',\n",
       "  'chromosome': 'NC_000016.10',\n",
       "  'assembly': 'GCF_000001405.26',\n",
       "  'taxon': 'NCBITaxon_9606',\n",
       "  'definition': 'Cis-regulatory module located in Homo sapiens chr16 between 52556490 and 52566288'}]"
      ]
     },
     "execution_count": 5,
     "metadata": {},
     "output_type": "execute_result"
    }
   ],
   "source": [
    "getCRM_info(\"crm/CRMHS00000005858\")"
   ]
  },
  {
   "cell_type": "code",
   "execution_count": 6,
   "id": "e8823ecd-70a5-4a6a-9dfc-f29bdddbcd7c",
   "metadata": {},
   "outputs": [
    {
     "data": {
      "text/plain": [
       "{'evidence': None,\n",
       " 'database': 'http://biocc.hrbmu.edu.cn/DiseaseEnhancer/',\n",
       " 'biological_samples': '',\n",
       " 'articles': 'pubmed/23001124'}"
      ]
     },
     "execution_count": 6,
     "metadata": {},
     "output_type": "execute_result"
    }
   ],
   "source": [
    "getCRM_add_info(\"crm/CRMHS00000005858\")"
   ]
  },
  {
   "cell_type": "markdown",
   "id": "60999678-0208-4d4b-b898-124b17e139ad",
   "metadata": {},
   "source": [
    "We are going now to search if our enhancer have any target gene using crm2gene function."
   ]
  },
  {
   "cell_type": "code",
   "execution_count": 7,
   "id": "c5519e4e-cf26-400c-975f-2b3c78fe6071",
   "metadata": {},
   "outputs": [
    {
     "name": "stdout",
     "output_type": "stream",
     "text": [
      "[{'gene_name': 'TOX3', 'database': 'http://biocc.hrbmu.edu.cn/DiseaseEnhancer/; http://health.tsinghua.edu.cn/jianglab/endisease/', 'articles': 'pubmed/23001124'}]\n"
     ]
    }
   ],
   "source": [
    "genes=crm2gene(\"crm/CRMHS00000005858\")\n",
    "print(genes)"
   ]
  },
  {
   "cell_type": "markdown",
   "id": "0e9ba595-bfdc-4b60-97c3-ddfbd55cbf16",
   "metadata": {},
   "source": [
    "The gene TOX3 is related to our crm, now we can find which proteins are encoded by this gene in Homo sapiens with gene2protein function."
   ]
  },
  {
   "cell_type": "code",
   "execution_count": 8,
   "id": "7e2fb0ee-5a57-452e-bf27-f8b528a70bd1",
   "metadata": {},
   "outputs": [
    {
     "name": "stdout",
     "output_type": "stream",
     "text": [
      "[{'prot_name': 'H3BTZ9_HUMAN'}, {'prot_name': 'J3QQQ6_HUMAN'}, {'prot_name': 'TOX3_HUMAN'}]\n"
     ]
    }
   ],
   "source": [
    "protein=gene2protein(\"TOX3\",\"Homo sapiens\")\n",
    "print(protein)"
   ]
  },
  {
   "cell_type": "markdown",
   "id": "d6a8e61c-53e1-4d2e-b356-ba71c604adc1",
   "metadata": {},
   "source": [
    "We want to know in which biological process are involved these proteins, we will use prot2bp function."
   ]
  },
  {
   "cell_type": "code",
   "execution_count": 9,
   "id": "25d1c839-8d89-41a6-8535-b885c691e4a7",
   "metadata": {},
   "outputs": [
    {
     "name": "stdout",
     "output_type": "stream",
     "text": [
      "Protein H3BTZ9_HUMAN\n",
      "Biological process: No data available for the introduced protein or you may have introduced an instance that is not a protein. Check your data type with type_data function.\n",
      "\n",
      "Protein J3QQQ6_HUMAN\n",
      "Biological process: No data available for the introduced protein or you may have introduced an instance that is not a protein. Check your data type with type_data function.\n",
      "\n",
      "Protein TOX3_HUMAN\n",
      "Biological process: [{'bp_id': 'GO:0042981', 'bp_label': 'regulation of apoptotic process', 'relation_label': 'O15405--GO:0042981', 'database': 'goa/', 'articles': 'pubmed/21172805'}, {'bp_id': 'GO:0043524', 'bp_label': 'negative regulation of neuron apoptotic process', 'relation_label': 'O15405--GO:0043524', 'database': 'goa/', 'articles': 'pubmed/21172805'}, {'bp_id': 'GO:0045944', 'bp_label': 'positive regulation of transcription by RNA polymerase II', 'relation_label': 'O15405--GO:0045944', 'database': 'goa/', 'articles': 'pubmed/21172805'}]\n",
      "\n"
     ]
    }
   ],
   "source": [
    "for prot in protein:\n",
    "    prot_name=prot['prot_name']\n",
    "    bp_results=prot2bp(prot_name)\n",
    "    print(f\"Protein {prot_name}\")\n",
    "    print(f\"Biological process: {bp_results}\\n\")"
   ]
  },
  {
   "cell_type": "markdown",
   "id": "f41f6eb9-3995-43e2-919e-8e41d9f4cf29",
   "metadata": {},
   "source": [
    "We find that TOX3_HUMAN protein is related with regulation of apoptotic process, regulation of transcription by RNA polymerase II, negative regulation of neuron apoptotic process and positive regulation of transcription by RNA polymerase II."
   ]
  },
  {
   "cell_type": "markdown",
   "id": "2a6e12b3-67b8-4a25-a679-1a7a36675e5d",
   "metadata": {},
   "source": [
    "As multiple enhancers can regulate the same gene, we are going to find with the function gene2crm which others enhancers can regulate our target gene:"
   ]
  },
  {
   "cell_type": "code",
   "execution_count": 10,
   "id": "a977c39f-3c6a-4799-b090-f64376eea8a5",
   "metadata": {},
   "outputs": [
    {
     "name": "stdout",
     "output_type": "stream",
     "text": [
      "Number of enhancers related with our target gene 393\n"
     ]
    }
   ],
   "source": [
    "enh=gene2crm(\"TOX3\")\n",
    "print(\"Number of enhancers related with our target gene\",len(enh))"
   ]
  },
  {
   "cell_type": "markdown",
   "id": "187dcb6b-8f74-436f-b3d4-5472b01c3f86",
   "metadata": {},
   "source": [
    "There is a total of 393 enhancers related with our target gene."
   ]
  },
  {
   "cell_type": "markdown",
   "id": "f75af887-3551-4861-b603-64ed14314136",
   "metadata": {},
   "source": [
    "Finally, we will find if there are any transcription factor related with our target gene using then function gene2tfac."
   ]
  },
  {
   "cell_type": "code",
   "execution_count": 11,
   "id": "99168852-a19d-4f4b-a122-7a16ac13f0a4",
   "metadata": {},
   "outputs": [
    {
     "name": "stdout",
     "output_type": "stream",
     "text": [
      "Number of transcription factors related with our target gene: 212\n",
      "\n",
      "('Transcription factors related with the selected gene:', [{'tfac_name': 'ARI4B_HUMAN', 'database': 'https://tflink.net', 'articles': 'pubmed/27924024', 'evidence_level': 'Low', 'definition': 'Q4LE39 involved in regulation of 9606/TOX3'}, {'tfac_name': 'CTCF_HUMAN', 'database': 'https://tflink.net', 'articles': 'pubmed/18971253; pubmed/26578589; pubmed/27924024; pubmed/29126285', 'evidence_level': 'Low', 'definition': 'P49711 involved in regulation of 9606/TOX3'}, {'tfac_name': 'AGO2_HUMAN', 'database': 'https://tflink.net', 'articles': 'pubmed/27924024', 'evidence_level': 'Low', 'definition': 'Q9UKV8 involved in regulation of 9606/TOX3'}, {'tfac_name': 'ANDR_HUMAN', 'database': 'https://tflink.net', 'articles': 'pubmed/27924024', 'evidence_level': 'Low', 'definition': 'P10275 involved in regulation of 9606/TOX3'}, {'tfac_name': 'ARID2_HUMAN', 'database': 'https://tflink.net', 'articles': 'pubmed/27924024; pubmed/29126285', 'evidence_level': 'Low', 'definition': 'Q68CP9 involved in regulation of 9606/TOX3'}, {'tfac_name': 'ARNT_HUMAN', 'database': 'https://tflink.net', 'articles': 'pubmed/29126285', 'evidence_level': 'Low', 'definition': 'P27540 involved in regulation of 9606/TOX3'}, {'tfac_name': 'ASCL1_HUMAN', 'database': 'https://tflink.net', 'articles': 'pubmed/27924024', 'evidence_level': 'Low', 'definition': 'P50553 involved in regulation of 9606/TOX3'}, {'tfac_name': 'DAND5_HUMAN', 'database': 'https://tflink.net', 'articles': 'pubmed/29126285', 'evidence_level': 'Low', 'definition': 'Q8N907 involved in regulation of 9606/TOX3'}, {'tfac_name': 'ELF1_HUMAN', 'database': 'https://tflink.net', 'articles': 'pubmed/29126285', 'evidence_level': 'Low', 'definition': 'P32519 involved in regulation of 9606/TOX3'}, {'tfac_name': 'GATA6_HUMAN', 'database': 'https://tflink.net', 'articles': 'pubmed/27924024', 'evidence_level': 'Low', 'definition': 'Q92908 involved in regulation of 9606/TOX3'}, {'tfac_name': 'HDAC2_HUMAN', 'database': 'https://tflink.net', 'articles': 'pubmed/27924024; pubmed/29126285', 'evidence_level': 'Low', 'definition': 'Q92769 involved in regulation of 9606/TOX3'}, {'tfac_name': 'ARI3A_HUMAN', 'database': 'https://tflink.net', 'articles': 'pubmed/29126285', 'evidence_level': 'Low', 'definition': 'Q99856 involved in regulation of 9606/TOX3'}, {'tfac_name': 'BMI1_HUMAN', 'database': 'https://tflink.net', 'articles': 'pubmed/27924024', 'evidence_level': 'Low', 'definition': 'P35226 involved in regulation of 9606/TOX3'}, {'tfac_name': 'CEBPD_HUMAN', 'database': 'https://tflink.net', 'articles': 'pubmed/27924024; pubmed/29126285', 'evidence_level': 'Low', 'definition': 'P49716 involved in regulation of 9606/TOX3'}, {'tfac_name': 'EGR1_HUMAN', 'database': 'https://tflink.net', 'articles': 'pubmed/18971253; pubmed/26578589', 'evidence_level': 'Low', 'definition': 'P18146 involved in regulation of 9606/TOX3'}, {'tfac_name': 'EGR2_HUMAN', 'database': 'https://tflink.net', 'articles': 'pubmed/27924024', 'evidence_level': 'Low', 'definition': 'P11161 involved in regulation of 9606/TOX3'}, {'tfac_name': 'EGR3_HUMAN', 'database': 'https://tflink.net', 'articles': 'pubmed/27924024', 'evidence_level': 'Low', 'definition': 'Q06889 involved in regulation of 9606/TOX3'}, {'tfac_name': 'EP300_HUMAN', 'database': 'https://tflink.net', 'articles': 'pubmed/27924024; pubmed/29126285', 'evidence_level': 'Low', 'definition': 'Q09472 involved in regulation of 9606/TOX3'}, {'tfac_name': 'ERF_HUMAN', 'database': 'https://tflink.net', 'articles': 'pubmed/27924024', 'evidence_level': 'Low', 'definition': 'P50548 involved in regulation of 9606/TOX3'}, {'tfac_name': 'FACD2_HUMAN', 'database': 'https://tflink.net', 'articles': 'pubmed/27924024', 'evidence_level': 'Low', 'definition': 'Q9BXW9 involved in regulation of 9606/TOX3'}, {'tfac_name': 'ATF3_HUMAN', 'database': 'https://tflink.net', 'articles': 'pubmed/27924024', 'evidence_level': 'Low', 'definition': 'P18847 involved in regulation of 9606/TOX3'}, {'tfac_name': 'BATF_HUMAN', 'database': 'https://tflink.net', 'articles': 'pubmed/27924024; pubmed/29126285', 'evidence_level': 'Low', 'definition': 'Q16520 involved in regulation of 9606/TOX3'}, {'tfac_name': 'BRD9_HUMAN', 'database': 'https://tflink.net', 'articles': 'pubmed/27924024', 'evidence_level': 'Low', 'definition': 'Q9H8M2 involved in regulation of 9606/TOX3'}, {'tfac_name': 'CATA_HUMAN', 'database': 'https://tflink.net', 'articles': 'pubmed/27924024', 'evidence_level': 'Low', 'definition': 'P04040 involved in regulation of 9606/TOX3'}, {'tfac_name': 'CEBPA_HUMAN', 'database': 'https://tflink.net', 'articles': 'pubmed/18971253; pubmed/26578589; pubmed/27924024; pubmed/29126285', 'evidence_level': 'Low', 'definition': 'P49715 involved in regulation of 9606/TOX3'}, {'tfac_name': 'CHD1_HUMAN', 'database': 'https://tflink.net', 'articles': 'pubmed/29126285', 'evidence_level': 'Low', 'definition': 'O14646 involved in regulation of 9606/TOX3'}, {'tfac_name': 'EZH2_HUMAN', 'database': 'https://tflink.net', 'articles': 'pubmed/27924024; pubmed/29126285', 'evidence_level': 'Low', 'definition': 'Q15910 involved in regulation of 9606/TOX3'}, {'tfac_name': 'FGFR1_HUMAN', 'database': 'https://tflink.net', 'articles': 'pubmed/27924024', 'evidence_level': 'Low', 'definition': 'P11362 involved in regulation of 9606/TOX3'}, {'tfac_name': 'HAND2_HUMAN', 'database': 'https://tflink.net', 'articles': 'pubmed/27924024', 'evidence_level': 'Low', 'definition': 'P61296 involved in regulation of 9606/TOX3'}, {'tfac_name': 'HIF1A_HUMAN', 'database': 'https://tflink.net', 'articles': 'pubmed/27924024', 'evidence_level': 'Low', 'definition': 'Q16665 involved in regulation of 9606/TOX3'}, {'tfac_name': 'HIRA_HUMAN', 'database': 'https://tflink.net', 'articles': 'pubmed/27924024', 'evidence_level': 'Low', 'definition': 'P54198 involved in regulation of 9606/TOX3'}, {'tfac_name': 'IRF1_HUMAN', 'database': 'https://tflink.net', 'articles': 'pubmed/27924024', 'evidence_level': 'Low', 'definition': 'P10914 involved in regulation of 9606/TOX3'}, {'tfac_name': 'IRF2_HUMAN', 'database': 'https://tflink.net', 'articles': 'pubmed/27924024', 'evidence_level': 'Low', 'definition': 'P14316 involved in regulation of 9606/TOX3'}, {'tfac_name': 'IRF3_HUMAN', 'database': 'https://tflink.net', 'articles': 'pubmed/27924024', 'evidence_level': 'Low', 'definition': 'Q14653 involved in regulation of 9606/TOX3'}, {'tfac_name': 'ISL1_HUMAN', 'database': 'https://tflink.net', 'articles': 'pubmed/27924024', 'evidence_level': 'Low', 'definition': 'P61371 involved in regulation of 9606/TOX3'}, {'tfac_name': 'JUNB_HUMAN', 'database': 'https://tflink.net', 'articles': 'pubmed/29126285', 'evidence_level': 'Low', 'definition': 'P17275 involved in regulation of 9606/TOX3'}, {'tfac_name': 'JUND_HUMAN', 'database': 'https://tflink.net', 'articles': 'pubmed/27924024', 'evidence_level': 'Low', 'definition': 'P17535 involved in regulation of 9606/TOX3'}, {'tfac_name': 'KAT8_HUMAN', 'database': 'https://tflink.net', 'articles': 'pubmed/27924024', 'evidence_level': 'Low', 'definition': 'Q9H7Z6 involved in regulation of 9606/TOX3'}, {'tfac_name': 'ESR1_HUMAN', 'database': 'https://tflink.net', 'articles': 'pubmed/27924024', 'evidence_level': 'Low', 'definition': 'P03372 involved in regulation of 9606/TOX3'}, {'tfac_name': 'FLI1_HUMAN', 'database': 'https://tflink.net', 'articles': 'pubmed/27924024', 'evidence_level': 'Low', 'definition': 'Q01543 involved in regulation of 9606/TOX3'}, {'tfac_name': 'FOS_HUMAN', 'database': 'https://tflink.net', 'articles': 'pubmed/29126285', 'evidence_level': 'Low', 'definition': 'P01100 involved in regulation of 9606/TOX3'}, {'tfac_name': 'HMGX4_HUMAN', 'database': 'https://tflink.net', 'articles': 'pubmed/27924024', 'evidence_level': 'Low', 'definition': 'Q9UGU5 involved in regulation of 9606/TOX3'}, {'tfac_name': 'INT13_HUMAN', 'database': 'https://tflink.net', 'articles': 'pubmed/27924024', 'evidence_level': 'Low', 'definition': 'Q9NVM9 involved in regulation of 9606/TOX3'}, {'tfac_name': 'KDM2B_HUMAN', 'database': 'https://tflink.net', 'articles': 'pubmed/27924024', 'evidence_level': 'Low', 'definition': 'Q8NHM5 involved in regulation of 9606/TOX3'}, {'tfac_name': 'RBTN2_HUMAN', 'database': 'https://tflink.net', 'articles': 'pubmed/29126285', 'evidence_level': 'Low', 'definition': 'P25791 involved in regulation of 9606/TOX3'}, {'tfac_name': 'MBL2_HUMAN', 'database': 'https://tflink.net', 'articles': 'pubmed/27924024', 'evidence_level': 'Low', 'definition': 'P11226 involved in regulation of 9606/TOX3'}, {'tfac_name': 'NCOA1_HUMAN', 'database': 'https://tflink.net', 'articles': 'pubmed/27924024', 'evidence_level': 'Low', 'definition': 'Q15788 involved in regulation of 9606/TOX3'}, {'tfac_name': 'RARA_HUMAN', 'database': 'https://tflink.net', 'articles': 'pubmed/27924024', 'evidence_level': 'Low', 'definition': 'P10276 involved in regulation of 9606/TOX3'}, {'tfac_name': 'RFOX2_HUMAN', 'database': 'https://tflink.net', 'articles': 'pubmed/27924024', 'evidence_level': 'Low', 'definition': 'O43251 involved in regulation of 9606/TOX3'}, {'tfac_name': 'MIS_HUMAN', 'database': 'https://tflink.net', 'articles': 'pubmed/27924024', 'evidence_level': 'Low', 'definition': 'P03971 involved in regulation of 9606/TOX3'}, {'tfac_name': 'ATF1_HUMAN', 'database': 'https://tflink.net', 'articles': 'pubmed/27924024', 'evidence_level': 'Low', 'definition': 'P18846 involved in regulation of 9606/TOX3'}, {'tfac_name': 'ATF2_HUMAN', 'database': 'https://tflink.net', 'articles': 'pubmed/29126285', 'evidence_level': 'Low', 'definition': 'P15336 involved in regulation of 9606/TOX3'}, {'tfac_name': 'BRD2_HUMAN', 'database': 'https://tflink.net', 'articles': 'pubmed/27924024', 'evidence_level': 'Low', 'definition': 'P25440 involved in regulation of 9606/TOX3'}, {'tfac_name': 'CDK2_HUMAN', 'database': 'https://tflink.net', 'articles': 'pubmed/27924024', 'evidence_level': 'Low', 'definition': 'P24941 involved in regulation of 9606/TOX3'}, {'tfac_name': 'CEBPB_HUMAN', 'database': 'https://tflink.net', 'articles': 'pubmed/27924024; pubmed/29126285', 'evidence_level': 'Low', 'definition': 'P17676 involved in regulation of 9606/TOX3'}, {'tfac_name': 'CHD7_HUMAN', 'database': 'https://tflink.net', 'articles': 'pubmed/27924024; pubmed/29126285', 'evidence_level': 'Low', 'definition': 'Q9P2D1 involved in regulation of 9606/TOX3'}, {'tfac_name': 'CREB1_HUMAN', 'database': 'https://tflink.net', 'articles': 'pubmed/27924024; pubmed/29126285', 'evidence_level': 'Low', 'definition': 'P16220 involved in regulation of 9606/TOX3'}, {'tfac_name': 'EED_HUMAN', 'database': 'https://tflink.net', 'articles': 'pubmed/27924024; pubmed/29126285', 'evidence_level': 'Low', 'definition': 'O75530 involved in regulation of 9606/TOX3'}, {'tfac_name': 'EHMT2_HUMAN', 'database': 'https://tflink.net', 'articles': 'pubmed/27924024', 'evidence_level': 'Low', 'definition': 'Q96KQ7 involved in regulation of 9606/TOX3'}, {'tfac_name': 'FOXA2_HUMAN', 'database': 'https://tflink.net', 'articles': 'pubmed/27924024; pubmed/29126285', 'evidence_level': 'Low', 'definition': 'Q9Y261 involved in regulation of 9606/TOX3'}, {'tfac_name': 'GABP1_HUMAN', 'database': 'https://tflink.net', 'articles': 'pubmed/27924024', 'evidence_level': 'Low', 'definition': 'Q06547 involved in regulation of 9606/TOX3'}, {'tfac_name': 'HBP1_HUMAN', 'database': 'https://tflink.net', 'articles': 'pubmed/29126285', 'evidence_level': 'Low', 'definition': 'O60381 involved in regulation of 9606/TOX3'}, {'tfac_name': 'HNRPL_HUMAN', 'database': 'https://tflink.net', 'articles': 'pubmed/27924024', 'evidence_level': 'Low', 'definition': 'P14866 involved in regulation of 9606/TOX3'}, {'tfac_name': 'HNRPK_HUMAN', 'database': 'https://tflink.net', 'articles': 'pubmed/27924024', 'evidence_level': 'Low', 'definition': 'P61978 involved in regulation of 9606/TOX3'}, {'tfac_name': 'IKZF5_HUMAN', 'database': 'https://tflink.net', 'articles': 'pubmed/27924024', 'evidence_level': 'Low', 'definition': 'Q9H5V7 involved in regulation of 9606/TOX3'}, {'tfac_name': 'LMNA_HUMAN', 'database': 'https://tflink.net', 'articles': 'pubmed/27924024', 'evidence_level': 'Low', 'definition': 'P02545 involved in regulation of 9606/TOX3'}, {'tfac_name': 'MYCD_HUMAN', 'database': 'https://tflink.net', 'articles': 'pubmed/27924024', 'evidence_level': 'Low', 'definition': 'Q8IZQ8 involved in regulation of 9606/TOX3'}, {'tfac_name': 'NANOG_HUMAN', 'database': 'https://tflink.net', 'articles': 'pubmed/27924024; pubmed/29126285', 'evidence_level': 'Low', 'definition': 'Q9H9S0 involved in regulation of 9606/TOX3'}, {'tfac_name': 'GCR_HUMAN', 'database': 'https://tflink.net', 'articles': 'pubmed/27924024', 'evidence_level': 'Low', 'definition': 'P04150 involved in regulation of 9606/TOX3'}, {'tfac_name': 'RING2_HUMAN', 'database': 'https://tflink.net', 'articles': 'pubmed/27924024', 'evidence_level': 'Low', 'definition': 'Q99496 involved in regulation of 9606/TOX3'}, {'tfac_name': 'SMAD3_HUMAN', 'database': 'https://tflink.net', 'articles': 'pubmed/27924024; pubmed/29126285', 'evidence_level': 'Low', 'definition': 'P84022 involved in regulation of 9606/TOX3'}, {'tfac_name': 'TFAP4_HUMAN', 'database': 'https://tflink.net', 'articles': 'pubmed/27924024; pubmed/29126285', 'evidence_level': 'Low', 'definition': 'Q01664 involved in regulation of 9606/TOX3'}, {'tfac_name': 'TIF1A_HUMAN', 'database': 'https://tflink.net', 'articles': 'pubmed/27924024', 'evidence_level': 'Low', 'definition': 'O15164 involved in regulation of 9606/TOX3'}, {'tfac_name': 'BRD3_HUMAN', 'database': 'https://tflink.net', 'articles': 'pubmed/27924024', 'evidence_level': 'Low', 'definition': 'Q15059 involved in regulation of 9606/TOX3'}, {'tfac_name': 'BRD4_HUMAN', 'database': 'https://tflink.net', 'articles': 'pubmed/27924024', 'evidence_level': 'Low', 'definition': 'O60885 involved in regulation of 9606/TOX3'}, {'tfac_name': 'CEBPG_HUMAN', 'database': 'https://tflink.net', 'articles': 'pubmed/27924024', 'evidence_level': 'Low', 'definition': 'P53567 involved in regulation of 9606/TOX3'}, {'tfac_name': 'CNOT3_HUMAN', 'database': 'https://tflink.net', 'articles': 'pubmed/27924024', 'evidence_level': 'Low', 'definition': 'O75175 involved in regulation of 9606/TOX3'}, {'tfac_name': 'NC2A_HUMAN', 'database': 'https://tflink.net', 'articles': 'pubmed/27924024', 'evidence_level': 'Low', 'definition': 'Q14919 involved in regulation of 9606/TOX3'}, {'tfac_name': 'E2F6_HUMAN', 'database': 'https://tflink.net', 'articles': 'pubmed/27924024; pubmed/29126285', 'evidence_level': 'Low', 'definition': 'O75461 involved in regulation of 9606/TOX3'}, {'tfac_name': 'ELF3_HUMAN', 'database': 'https://tflink.net', 'articles': 'pubmed/27924024', 'evidence_level': 'Low', 'definition': 'P78545 involved in regulation of 9606/TOX3'}, {'tfac_name': 'FOXA3_HUMAN', 'database': 'https://tflink.net', 'articles': 'pubmed/27924024', 'evidence_level': 'Low', 'definition': 'P55318 involved in regulation of 9606/TOX3'}, {'tfac_name': 'GLIS1_HUMAN', 'database': 'https://tflink.net', 'articles': 'pubmed/27924024', 'evidence_level': 'Low', 'definition': 'Q8NBF1 involved in regulation of 9606/TOX3'}, {'tfac_name': 'HDBP1_HUMAN', 'database': 'https://tflink.net', 'articles': 'pubmed/29126285', 'evidence_level': 'Low', 'definition': 'Q8IV16 involved in regulation of 9606/TOX3'}, {'tfac_name': 'GRHL3_HUMAN', 'database': 'https://tflink.net', 'articles': 'pubmed/27924024', 'evidence_level': 'Low', 'definition': 'Q8TE85 involved in regulation of 9606/TOX3'}, {'tfac_name': 'KLF4_HUMAN', 'database': 'https://tflink.net', 'articles': 'pubmed/27924024; pubmed/29126285', 'evidence_level': 'Low', 'definition': 'O43474 involved in regulation of 9606/TOX3'}, {'tfac_name': 'KLF6_HUMAN', 'database': 'https://tflink.net', 'articles': 'pubmed/27924024', 'evidence_level': 'Low', 'definition': 'Q99612 involved in regulation of 9606/TOX3'}, {'tfac_name': 'KMT2A_HUMAN', 'database': 'https://tflink.net', 'articles': 'pubmed/27924024', 'evidence_level': 'Low', 'definition': 'Q03164 involved in regulation of 9606/TOX3'}, {'tfac_name': 'LARP7_HUMAN', 'database': 'https://tflink.net', 'articles': 'pubmed/27924024', 'evidence_level': 'Low', 'definition': 'Q4G0J3 involved in regulation of 9606/TOX3'}, {'tfac_name': 'MYBB_HUMAN', 'database': 'https://tflink.net', 'articles': 'pubmed/29126285', 'evidence_level': 'Low', 'definition': 'P10244 involved in regulation of 9606/TOX3'}, {'tfac_name': 'NDF1_HUMAN', 'database': 'https://tflink.net', 'articles': 'pubmed/27924024', 'evidence_level': 'Low', 'definition': 'Q13562 involved in regulation of 9606/TOX3'}, {'tfac_name': 'NFAC3_HUMAN', 'database': 'https://tflink.net', 'articles': 'pubmed/27924024', 'evidence_level': 'Low', 'definition': 'Q12968 involved in regulation of 9606/TOX3'}, {'tfac_name': 'NKX22_HUMAN', 'database': 'https://tflink.net', 'articles': 'pubmed/29126285', 'evidence_level': 'Low', 'definition': 'O95096 involved in regulation of 9606/TOX3'}, {'tfac_name': 'ONEC2_HUMAN', 'database': 'https://tflink.net', 'articles': 'pubmed/27924024', 'evidence_level': 'Low', 'definition': 'O95948 involved in regulation of 9606/TOX3'}, {'tfac_name': 'PADI2_HUMAN', 'database': 'https://tflink.net', 'articles': 'pubmed/27924024', 'evidence_level': 'Low', 'definition': 'Q9Y2J8 involved in regulation of 9606/TOX3'}, {'tfac_name': 'PRGR_HUMAN', 'database': 'https://tflink.net', 'articles': 'pubmed/27924024', 'evidence_level': 'Low', 'definition': 'P06401 involved in regulation of 9606/TOX3'}, {'tfac_name': 'PHF5A_HUMAN', 'database': 'https://tflink.net', 'articles': 'pubmed/27924024', 'evidence_level': 'Low', 'definition': 'Q7RTV0 involved in regulation of 9606/TOX3'}, {'tfac_name': 'PRD14_HUMAN', 'database': 'https://tflink.net', 'articles': 'pubmed/18971253; pubmed/20953172; pubmed/22900683; pubmed/26578589; pubmed/29126285', 'evidence_level': 'Low', 'definition': 'Q9GZV8 involved in regulation of 9606/TOX3'}, {'tfac_name': 'SP130_HUMAN', 'database': 'https://tflink.net', 'articles': 'pubmed/27924024', 'evidence_level': 'Low', 'definition': 'Q9H0E3 involved in regulation of 9606/TOX3'}, {'tfac_name': 'SP1_HUMAN', 'database': 'https://tflink.net', 'articles': 'pubmed/27924024; pubmed/29126285', 'evidence_level': 'Low', 'definition': 'P08047 involved in regulation of 9606/TOX3'}, {'tfac_name': 'SPI1_HUMAN', 'database': 'https://tflink.net', 'articles': 'pubmed/29126285', 'evidence_level': 'Low', 'definition': 'P17947 involved in regulation of 9606/TOX3'}, {'tfac_name': 'TBXT_HUMAN', 'database': 'https://tflink.net', 'articles': 'pubmed/27924024; pubmed/29126285', 'evidence_level': 'Low', 'definition': 'O15178 involved in regulation of 9606/TOX3'}, {'tfac_name': 'DMC1_HUMAN', 'database': 'https://tflink.net', 'articles': 'pubmed/27924024', 'evidence_level': 'Low', 'definition': 'Q14565 involved in regulation of 9606/TOX3'}, {'tfac_name': 'E2F1_HUMAN', 'database': 'https://tflink.net', 'articles': 'pubmed/18971253; pubmed/26578589; pubmed/27924024', 'evidence_level': 'Low', 'definition': 'Q01094 involved in regulation of 9606/TOX3'}, {'tfac_name': 'ERG_HUMAN', 'database': 'https://tflink.net', 'articles': 'pubmed/27924024', 'evidence_level': 'Low', 'definition': 'P11308 involved in regulation of 9606/TOX3'}, {'tfac_name': 'FOXN3_HUMAN', 'database': 'https://tflink.net', 'articles': 'pubmed/27924024', 'evidence_level': 'Low', 'definition': 'O00409 involved in regulation of 9606/TOX3'}, {'tfac_name': 'FOXP1_HUMAN', 'database': 'https://tflink.net', 'articles': 'pubmed/27924024; pubmed/29126285', 'evidence_level': 'Low', 'definition': 'Q9H334 involved in regulation of 9606/TOX3'}, {'tfac_name': 'GATA3_HUMAN', 'database': 'https://tflink.net', 'articles': 'pubmed/27924024', 'evidence_level': 'Low', 'definition': 'P23771 involved in regulation of 9606/TOX3'}, {'tfac_name': 'JARD2_HUMAN', 'database': 'https://tflink.net', 'articles': 'pubmed/29126285', 'evidence_level': 'Low', 'definition': 'Q92833 involved in regulation of 9606/TOX3'}, {'tfac_name': 'KAT7_HUMAN', 'database': 'https://tflink.net', 'articles': 'pubmed/27924024', 'evidence_level': 'Low', 'definition': 'O95251 involved in regulation of 9606/TOX3'}, {'tfac_name': 'KDM5B_HUMAN', 'database': 'https://tflink.net', 'articles': 'pubmed/27924024', 'evidence_level': 'Low', 'definition': 'Q9UGL1 involved in regulation of 9606/TOX3'}, {'tfac_name': 'LMBL4_HUMAN', 'database': 'https://tflink.net', 'articles': 'pubmed/27924024', 'evidence_level': 'Low', 'definition': 'Q8NA19 involved in regulation of 9606/TOX3'}, {'tfac_name': 'MAFF_HUMAN', 'database': 'https://tflink.net', 'articles': 'pubmed/29126285', 'evidence_level': 'Low', 'definition': 'Q9ULX9 involved in regulation of 9606/TOX3'}, {'tfac_name': 'MCM7_HUMAN', 'database': 'https://tflink.net', 'articles': 'pubmed/27924024', 'evidence_level': 'Low', 'definition': 'P33993 involved in regulation of 9606/TOX3'}, {'tfac_name': 'MIER3_HUMAN', 'database': 'https://tflink.net', 'articles': 'pubmed/27924024', 'evidence_level': 'Low', 'definition': 'Q7Z3K6 involved in regulation of 9606/TOX3'}, {'tfac_name': 'NFIL3_HUMAN', 'database': 'https://tflink.net', 'articles': 'pubmed/27924024', 'evidence_level': 'Low', 'definition': 'Q16649 involved in regulation of 9606/TOX3'}, {'tfac_name': 'NFYC_HUMAN', 'database': 'https://tflink.net', 'articles': 'pubmed/27924024', 'evidence_level': 'Low', 'definition': 'Q13952 involved in regulation of 9606/TOX3'}, {'tfac_name': 'NONO_HUMAN', 'database': 'https://tflink.net', 'articles': 'pubmed/27924024', 'evidence_level': 'Low', 'definition': 'Q15233 involved in regulation of 9606/TOX3'}, {'tfac_name': 'SMCA4_HUMAN', 'database': 'https://tflink.net', 'articles': 'pubmed/27924024', 'evidence_level': 'Low', 'definition': 'P51532 involved in regulation of 9606/TOX3'}, {'tfac_name': 'TAF1_HUMAN', 'database': 'https://tflink.net', 'articles': 'pubmed/27924024', 'evidence_level': 'Low', 'definition': 'P21675 involved in regulation of 9606/TOX3'}, {'tfac_name': 'TFE3_HUMAN', 'database': 'https://tflink.net', 'articles': 'pubmed/27924024', 'evidence_level': 'Low', 'definition': 'P19532 involved in regulation of 9606/TOX3'}, {'tfac_name': 'THA11_HUMAN', 'database': 'https://tflink.net', 'articles': 'pubmed/27924024', 'evidence_level': 'Low', 'definition': 'Q96EK4 involved in regulation of 9606/TOX3'}, {'tfac_name': 'FOSL2_HUMAN', 'database': 'https://tflink.net', 'articles': 'pubmed/27924024', 'evidence_level': 'Low', 'definition': 'P15408 involved in regulation of 9606/TOX3'}, {'tfac_name': 'FOXA1_HUMAN', 'database': 'https://tflink.net', 'articles': 'pubmed/18971253; pubmed/26578589; pubmed/27924024; pubmed/29126285', 'evidence_level': 'Low', 'definition': 'P55317 involved in regulation of 9606/TOX3'}, {'tfac_name': 'GABPA_HUMAN', 'database': 'https://tflink.net', 'articles': 'pubmed/27924024', 'evidence_level': 'Low', 'definition': 'Q06546 involved in regulation of 9606/TOX3'}, {'tfac_name': 'HNF4A_HUMAN', 'database': 'https://tflink.net', 'articles': 'pubmed/18971253; pubmed/26578589; pubmed/29126285', 'evidence_level': 'Low', 'definition': 'P41235 involved in regulation of 9606/TOX3'}, {'tfac_name': 'INO80_HUMAN', 'database': 'https://tflink.net', 'articles': 'pubmed/27924024', 'evidence_level': 'Low', 'definition': 'Q9ULG1 involved in regulation of 9606/TOX3'}, {'tfac_name': 'KLF9_HUMAN', 'database': 'https://tflink.net', 'articles': 'pubmed/27924024', 'evidence_level': 'Low', 'definition': 'Q13886 involved in regulation of 9606/TOX3'}, {'tfac_name': 'KMT2B_HUMAN', 'database': 'https://tflink.net', 'articles': 'pubmed/27924024', 'evidence_level': 'Low', 'definition': 'Q9UMN6 involved in regulation of 9606/TOX3'}, {'tfac_name': 'MAFB_HUMAN', 'database': 'https://tflink.net', 'articles': 'pubmed/29126285', 'evidence_level': 'Low', 'definition': 'Q9Y5Q3 involved in regulation of 9606/TOX3'}, {'tfac_name': 'MAX_HUMAN', 'database': 'https://tflink.net', 'articles': 'pubmed/27924024; pubmed/29126285', 'evidence_level': 'Low', 'definition': 'P61244 involved in regulation of 9606/TOX3'}, {'tfac_name': 'MAZ_HUMAN', 'database': 'https://tflink.net', 'articles': 'pubmed/27924024', 'evidence_level': 'Low', 'definition': 'P56270 involved in regulation of 9606/TOX3'}, {'tfac_name': 'MAON_HUMAN', 'database': 'https://tflink.net', 'articles': 'pubmed/27924024', 'evidence_level': 'Low', 'definition': 'Q16798 involved in regulation of 9606/TOX3'}, {'tfac_name': 'NR2F6_HUMAN', 'database': 'https://tflink.net', 'articles': 'pubmed/27924024; pubmed/29126285', 'evidence_level': 'Low', 'definition': 'P10588 involved in regulation of 9606/TOX3'}, {'tfac_name': 'PRD10_HUMAN', 'database': 'https://tflink.net', 'articles': 'pubmed/27924024', 'evidence_level': 'Low', 'definition': 'Q9NQV6 involved in regulation of 9606/TOX3'}, {'tfac_name': 'PRDM9_HUMAN', 'database': 'https://tflink.net', 'articles': 'pubmed/27924024', 'evidence_level': 'Low', 'definition': 'Q9NQV7 involved in regulation of 9606/TOX3'}, {'tfac_name': 'RBBP5_HUMAN', 'database': 'https://tflink.net', 'articles': 'pubmed/29126285', 'evidence_level': 'Low', 'definition': 'Q15291 involved in regulation of 9606/TOX3'}, {'tfac_name': 'SCRT1_HUMAN', 'database': 'https://tflink.net', 'articles': 'pubmed/27924024', 'evidence_level': 'Low', 'definition': 'Q9BWW7 involved in regulation of 9606/TOX3'}, {'tfac_name': 'SCRT2_HUMAN', 'database': 'https://tflink.net', 'articles': 'pubmed/27924024', 'evidence_level': 'Low', 'definition': 'Q9NQ03 involved in regulation of 9606/TOX3'}, {'tfac_name': 'SIN3A_HUMAN', 'database': 'https://tflink.net', 'articles': 'pubmed/29126285', 'evidence_level': 'Low', 'definition': 'Q96ST3 involved in regulation of 9606/TOX3'}, {'tfac_name': 'SNF5_HUMAN', 'database': 'https://tflink.net', 'articles': 'pubmed/29126285', 'evidence_level': 'Low', 'definition': 'Q12824 involved in regulation of 9606/TOX3'}, {'tfac_name': 'SP5_HUMAN', 'database': 'https://tflink.net', 'articles': 'pubmed/27924024', 'evidence_level': 'Low', 'definition': 'Q6BEB4 involved in regulation of 9606/TOX3'}, {'tfac_name': 'SUZ12_HUMAN', 'database': 'https://tflink.net', 'articles': 'pubmed/27924024; pubmed/29126285', 'evidence_level': 'Low', 'definition': 'Q15022 involved in regulation of 9606/TOX3'}, {'tfac_name': 'RBP56_HUMAN', 'database': 'https://tflink.net', 'articles': 'pubmed/27924024', 'evidence_level': 'Low', 'definition': 'Q92804 involved in regulation of 9606/TOX3'}, {'tfac_name': 'TBX2_HUMAN', 'database': 'https://tflink.net', 'articles': 'pubmed/27924024', 'evidence_level': 'Low', 'definition': 'Q13207 involved in regulation of 9606/TOX3'}, {'tfac_name': 'ZBT17_HUMAN', 'database': 'https://tflink.net', 'articles': 'pubmed/27924024', 'evidence_level': 'Low', 'definition': 'Q13105 involved in regulation of 9606/TOX3'}, {'tfac_name': 'ZEB1_HUMAN', 'database': 'https://tflink.net', 'articles': 'pubmed/27924024; pubmed/29126285', 'evidence_level': 'Low', 'definition': 'P37275 involved in regulation of 9606/TOX3'}, {'tfac_name': 'HEY1_HUMAN', 'database': 'https://tflink.net', 'articles': 'pubmed/27924024', 'evidence_level': 'Low', 'definition': 'Q9Y5J3 involved in regulation of 9606/TOX3'}, {'tfac_name': 'INT11_HUMAN', 'database': 'https://tflink.net', 'articles': 'pubmed/27924024', 'evidence_level': 'Low', 'definition': 'Q5TA45 involved in regulation of 9606/TOX3'}, {'tfac_name': 'JUN_HUMAN', 'database': 'https://tflink.net', 'articles': 'pubmed/27924024', 'evidence_level': 'Low', 'definition': 'P05412 involved in regulation of 9606/TOX3'}, {'tfac_name': 'KDM3A_HUMAN', 'database': 'https://tflink.net', 'articles': 'pubmed/27924024', 'evidence_level': 'Low', 'definition': 'Q9Y4C1 involved in regulation of 9606/TOX3'}, {'tfac_name': 'KDM4A_HUMAN', 'database': 'https://tflink.net', 'articles': 'pubmed/27924024', 'evidence_level': 'Low', 'definition': 'O75164 involved in regulation of 9606/TOX3'}, {'tfac_name': 'MAFK_HUMAN', 'database': 'https://tflink.net', 'articles': 'pubmed/29126285', 'evidence_level': 'Low', 'definition': 'O60675 involved in regulation of 9606/TOX3'}, {'tfac_name': 'MAD3_HUMAN', 'database': 'https://tflink.net', 'articles': 'pubmed/27924024', 'evidence_level': 'Low', 'definition': 'Q9BW11 involved in regulation of 9606/TOX3'}, {'tfac_name': 'CNDH2_HUMAN', 'database': 'https://tflink.net', 'articles': 'pubmed/27924024', 'evidence_level': 'Low', 'definition': 'Q6IBW4 involved in regulation of 9606/TOX3'}, {'tfac_name': 'NFIA_HUMAN', 'database': 'https://tflink.net', 'articles': 'pubmed/27924024', 'evidence_level': 'Low', 'definition': 'Q12857 involved in regulation of 9606/TOX3'}, {'tfac_name': 'NFKB2_HUMAN', 'database': 'https://tflink.net', 'articles': 'pubmed/27924024', 'evidence_level': 'Low', 'definition': 'Q00653 involved in regulation of 9606/TOX3'}, {'tfac_name': 'OTX2_HUMAN', 'database': 'https://tflink.net', 'articles': 'pubmed/27924024', 'evidence_level': 'Low', 'definition': 'P32243 involved in regulation of 9606/TOX3'}, {'tfac_name': 'PCBP1_HUMAN', 'database': 'https://tflink.net', 'articles': 'pubmed/27924024', 'evidence_level': 'Low', 'definition': 'Q15365 involved in regulation of 9606/TOX3'}, {'tfac_name': 'PMEPA_HUMAN', 'database': 'https://tflink.net', 'articles': 'pubmed/29126285', 'evidence_level': 'Low', 'definition': 'Q969W9 involved in regulation of 9606/TOX3'}, {'tfac_name': 'PO5F1_HUMAN', 'database': 'https://tflink.net', 'articles': 'pubmed/27924024; pubmed/29126285', 'evidence_level': 'Low', 'definition': 'Q01860 involved in regulation of 9606/TOX3'}, {'tfac_name': 'PPARG_HUMAN', 'database': 'https://tflink.net', 'articles': 'pubmed/27924024', 'evidence_level': 'Low', 'definition': 'P37231 involved in regulation of 9606/TOX3'}, {'tfac_name': 'PTEN_HUMAN', 'database': 'https://tflink.net', 'articles': 'pubmed/27924024', 'evidence_level': 'Low', 'definition': 'P60484 involved in regulation of 9606/TOX3'}, {'tfac_name': 'RAD21_HUMAN', 'database': 'https://tflink.net', 'articles': 'pubmed/27924024; pubmed/29126285', 'evidence_level': 'Low', 'definition': 'O60216 involved in regulation of 9606/TOX3'}, {'tfac_name': 'REST_HUMAN', 'database': 'https://tflink.net', 'articles': 'pubmed/29126285', 'evidence_level': 'Low', 'definition': 'Q13127 involved in regulation of 9606/TOX3'}, {'tfac_name': 'RING1_HUMAN', 'database': 'https://tflink.net', 'articles': 'pubmed/27924024', 'evidence_level': 'Low', 'definition': 'Q06587 involved in regulation of 9606/TOX3'}, {'tfac_name': 'SAP30_HUMAN', 'database': 'https://tflink.net', 'articles': 'pubmed/27924024; pubmed/29126285', 'evidence_level': 'Low', 'definition': 'O75446 involved in regulation of 9606/TOX3'}, {'tfac_name': 'SIR1_HUMAN', 'database': 'https://tflink.net', 'articles': 'pubmed/27924024', 'evidence_level': 'Low', 'definition': 'Q96EB6 involved in regulation of 9606/TOX3'}, {'tfac_name': 'SP2_HUMAN', 'database': 'https://tflink.net', 'articles': 'pubmed/27924024', 'evidence_level': 'Low', 'definition': 'Q02086 involved in regulation of 9606/TOX3'}, {'tfac_name': 'SSXT_HUMAN', 'database': 'https://tflink.net', 'articles': 'pubmed/27924024', 'evidence_level': 'Low', 'definition': 'Q15532 involved in regulation of 9606/TOX3'}, {'tfac_name': 'STAT6_HUMAN', 'database': 'https://tflink.net', 'articles': 'pubmed/27924024', 'evidence_level': 'Low', 'definition': 'P42226 involved in regulation of 9606/TOX3'}, {'tfac_name': 'ZN449_HUMAN', 'database': 'https://tflink.net', 'articles': 'pubmed/27924024', 'evidence_level': 'Low', 'definition': 'Q6P9G9 involved in regulation of 9606/TOX3'}, {'tfac_name': 'ZN467_HUMAN', 'database': 'https://tflink.net', 'articles': 'pubmed/27924024', 'evidence_level': 'Low', 'definition': 'Q7Z7K2 involved in regulation of 9606/TOX3'}, {'tfac_name': 'MYC_HUMAN', 'database': 'https://tflink.net', 'articles': 'pubmed/27924024; pubmed/29126285', 'evidence_level': 'Low', 'definition': 'P01106 involved in regulation of 9606/TOX3'}, {'tfac_name': 'MYCN_HUMAN', 'database': 'https://tflink.net', 'articles': 'pubmed/27924024', 'evidence_level': 'Low', 'definition': 'P04198 involved in regulation of 9606/TOX3'}, {'tfac_name': 'SMC3_HUMAN', 'database': 'https://tflink.net', 'articles': 'pubmed/29126285', 'evidence_level': 'Low', 'definition': 'Q9UQE7 involved in regulation of 9606/TOX3'}, {'tfac_name': 'SOX13_HUMAN', 'database': 'https://tflink.net', 'articles': 'pubmed/27924024', 'evidence_level': 'Low', 'definition': 'Q9UN79 involved in regulation of 9606/TOX3'}, {'tfac_name': 'AP2A_HUMAN', 'database': 'https://tflink.net', 'articles': 'pubmed/27924024', 'evidence_level': 'Low', 'definition': 'P05549 involved in regulation of 9606/TOX3'}, {'tfac_name': 'USF1_HUMAN', 'database': 'https://tflink.net', 'articles': 'pubmed/27924024; pubmed/29126285', 'evidence_level': 'Low', 'definition': 'P22415 involved in regulation of 9606/TOX3'}, {'tfac_name': 'ZBT20_HUMAN', 'database': 'https://tflink.net', 'articles': 'pubmed/27924024', 'evidence_level': 'Low', 'definition': 'Q9HC78 involved in regulation of 9606/TOX3'}, {'tfac_name': 'ZBT26_HUMAN', 'database': 'https://tflink.net', 'articles': 'pubmed/27924024', 'evidence_level': 'Low', 'definition': 'Q9HCK0 involved in regulation of 9606/TOX3'}, {'tfac_name': 'ZBT7A_HUMAN', 'database': 'https://tflink.net', 'articles': 'pubmed/27924024', 'evidence_level': 'Low', 'definition': 'O95365 involved in regulation of 9606/TOX3'}, {'tfac_name': 'ZNF48_HUMAN', 'database': 'https://tflink.net', 'articles': 'pubmed/27924024', 'evidence_level': 'Low', 'definition': 'Q96MX3 involved in regulation of 9606/TOX3'}, {'tfac_name': 'ZN792_HUMAN', 'database': 'https://tflink.net', 'articles': 'pubmed/27924024', 'evidence_level': 'Low', 'definition': 'Q3KQV3 involved in regulation of 9606/TOX3'}, {'tfac_name': 'SUH_HUMAN', 'database': 'https://tflink.net', 'articles': 'pubmed/27924024', 'evidence_level': 'Low', 'definition': 'Q06330 involved in regulation of 9606/TOX3'}, {'tfac_name': 'RFX5_HUMAN', 'database': 'https://tflink.net', 'articles': 'pubmed/29126285', 'evidence_level': 'Low', 'definition': 'P48382 involved in regulation of 9606/TOX3'}, {'tfac_name': 'SMAD1_HUMAN', 'database': 'https://tflink.net', 'articles': 'pubmed/27924024', 'evidence_level': 'Low', 'definition': 'Q15797 involved in regulation of 9606/TOX3'}, {'tfac_name': 'SMAD2_HUMAN', 'database': 'https://tflink.net', 'articles': 'pubmed/27924024', 'evidence_level': 'Low', 'definition': 'Q15796 involved in regulation of 9606/TOX3'}, {'tfac_name': 'SMAD4_HUMAN', 'database': 'https://tflink.net', 'articles': 'pubmed/27924024', 'evidence_level': 'Low', 'definition': 'Q13485 involved in regulation of 9606/TOX3'}, {'tfac_name': 'SMRC1_HUMAN', 'database': 'https://tflink.net', 'articles': 'pubmed/27924024', 'evidence_level': 'Low', 'definition': 'Q92922 involved in regulation of 9606/TOX3'}, {'tfac_name': 'SOX2_HUMAN', 'database': 'https://tflink.net', 'articles': 'pubmed/27924024; pubmed/29126285', 'evidence_level': 'Low', 'definition': 'P48431 involved in regulation of 9606/TOX3'}, {'tfac_name': 'SSRP1_HUMAN', 'database': 'https://tflink.net', 'articles': 'pubmed/29126285', 'evidence_level': 'Low', 'definition': 'Q08945 involved in regulation of 9606/TOX3'}, {'tfac_name': 'SSU72_HUMAN', 'database': 'https://tflink.net', 'articles': 'pubmed/27924024', 'evidence_level': 'Low', 'definition': 'Q9NP77 involved in regulation of 9606/TOX3'}, {'tfac_name': 'STAG1_HUMAN', 'database': 'https://tflink.net', 'articles': 'pubmed/29126285', 'evidence_level': 'Low', 'definition': 'Q8WVM7 involved in regulation of 9606/TOX3'}, {'tfac_name': 'HTF4_HUMAN', 'database': 'https://tflink.net', 'articles': 'pubmed/29126285', 'evidence_level': 'Low', 'definition': 'Q99081 involved in regulation of 9606/TOX3'}, {'tfac_name': 'XRCC5_HUMAN', 'database': 'https://tflink.net', 'articles': 'pubmed/27924024', 'evidence_level': 'Low', 'definition': 'P13010 involved in regulation of 9606/TOX3'}, {'tfac_name': 'ZN143_HUMAN', 'database': 'https://tflink.net', 'articles': 'pubmed/27924024; pubmed/29126285', 'evidence_level': 'Low', 'definition': 'P52747 involved in regulation of 9606/TOX3'}, {'tfac_name': 'ZN580_HUMAN', 'database': 'https://tflink.net', 'articles': 'pubmed/27924024', 'evidence_level': 'Low', 'definition': 'Q9UK33 involved in regulation of 9606/TOX3'}, {'tfac_name': 'TF7L1_HUMAN', 'database': 'https://tflink.net', 'articles': 'pubmed/27924024', 'evidence_level': 'Low', 'definition': 'Q9HCS4 involved in regulation of 9606/TOX3'}, {'tfac_name': 'TEAD4_HUMAN', 'database': 'https://tflink.net', 'articles': 'pubmed/27924024; pubmed/29126285', 'evidence_level': 'Low', 'definition': 'Q15561 involved in regulation of 9606/TOX3'}, {'tfac_name': 'AP2C_HUMAN', 'database': 'https://tflink.net', 'articles': 'pubmed/27924024; pubmed/29126285', 'evidence_level': 'Low', 'definition': 'Q92754 involved in regulation of 9606/TOX3'}, {'tfac_name': 'TGIF2_HUMAN', 'database': 'https://tflink.net', 'articles': 'pubmed/27924024; pubmed/29126285', 'evidence_level': 'Low', 'definition': 'Q9GZN2 involved in regulation of 9606/TOX3'}, {'tfac_name': 'P53_HUMAN', 'database': 'https://tflink.net', 'articles': 'pubmed/29126285', 'evidence_level': 'Low', 'definition': 'P04637 involved in regulation of 9606/TOX3'}, {'tfac_name': 'TIF1B_HUMAN', 'database': 'https://tflink.net', 'articles': 'pubmed/27924024', 'evidence_level': 'Low', 'definition': 'Q13263 involved in regulation of 9606/TOX3'}, {'tfac_name': 'TRPS1_HUMAN', 'database': 'https://tflink.net', 'articles': 'pubmed/27924024', 'evidence_level': 'Low', 'definition': 'Q9UHF7 involved in regulation of 9606/TOX3'}, {'tfac_name': 'USF2_HUMAN', 'database': 'https://tflink.net', 'articles': 'pubmed/27924024', 'evidence_level': 'Low', 'definition': 'Q15853 involved in regulation of 9606/TOX3'}, {'tfac_name': 'ZGPAT_HUMAN', 'database': 'https://tflink.net', 'articles': 'pubmed/27924024', 'evidence_level': 'Low', 'definition': 'Q8N5A5 involved in regulation of 9606/TOX3'}, {'tfac_name': 'ZN644_HUMAN', 'database': 'https://tflink.net', 'articles': 'pubmed/27924024', 'evidence_level': 'Low', 'definition': 'Q9H582 involved in regulation of 9606/TOX3'}, {'tfac_name': 'TYY1_HUMAN', 'database': 'https://tflink.net', 'articles': 'pubmed/27924024; pubmed/29126285', 'evidence_level': 'Low', 'definition': 'P25490 involved in regulation of 9606/TOX3'}, {'tfac_name': 'ZBT14_HUMAN', 'database': 'https://tflink.net', 'articles': 'pubmed/27924024', 'evidence_level': 'Low', 'definition': 'O43829 involved in regulation of 9606/TOX3'}, {'tfac_name': 'ZIC2_HUMAN', 'database': 'https://tflink.net', 'articles': 'pubmed/27924024', 'evidence_level': 'Low', 'definition': 'O95409 involved in regulation of 9606/TOX3'}, {'tfac_name': 'ZN175_HUMAN', 'database': 'https://tflink.net', 'articles': 'pubmed/29126285', 'evidence_level': 'Low', 'definition': 'Q9Y473 involved in regulation of 9606/TOX3'}, {'tfac_name': 'ZN263_HUMAN', 'database': 'https://tflink.net', 'articles': 'pubmed/29126285', 'evidence_level': 'Low', 'definition': 'O14978 involved in regulation of 9606/TOX3'}])\n"
     ]
    }
   ],
   "source": [
    "tf=gene2tfac(\"TOX3\")\n",
    "\n",
    "\n",
    "\n",
    "transcription_factors = tf[1]\n",
    "\n",
    "print(\"Number of transcription factors related with our target gene:\", len(transcription_factors))\n",
    "print(\"\")\n",
    "print(tf)\n"
   ]
  },
  {
   "cell_type": "code",
   "execution_count": 12,
   "id": "520017a9-850b-46c1-82f2-53c2bb476ff2",
   "metadata": {},
   "outputs": [
    {
     "name": "stdout",
     "output_type": "stream",
     "text": [
      "Execution time: 150.55037379264832 seconds\n"
     ]
    }
   ],
   "source": [
    "#There is a total of 212 transcription factors related with our target gene.\n",
    "end_time = time.time()\n",
    "execution_time = end_time - start_time\n",
    "print(f\"Execution time: {execution_time} seconds\")"
   ]
  }
 ],
 "metadata": {
  "kernelspec": {
   "display_name": "Python 3 (ipykernel)",
   "language": "python",
   "name": "python3"
  },
  "language_info": {
   "codemirror_mode": {
    "name": "ipython",
    "version": 3
   },
   "file_extension": ".py",
   "mimetype": "text/x-python",
   "name": "python",
   "nbconvert_exporter": "python",
   "pygments_lexer": "ipython3",
   "version": "3.13.0"
  }
 },
 "nbformat": 4,
 "nbformat_minor": 5
}
